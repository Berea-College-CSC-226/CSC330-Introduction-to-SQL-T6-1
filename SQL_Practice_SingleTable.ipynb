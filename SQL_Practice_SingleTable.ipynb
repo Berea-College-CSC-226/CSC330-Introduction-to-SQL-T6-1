{
 "cells": [
  {
   "cell_type": "markdown",
   "metadata": {},
   "source": [
    "# Practice Exercises for Single Table SQL\n",
    "\n",
    "Given a dataset and a set of questions, form the queries to answer the questions. All questions in this particular exercise only require a query to a single table. \n",
    "\n",
    "⚠️ *Note:* Please display minimal number of attributes (columns) needed to make sense of your answer. Not too many, not too few.\n"
   ]
  },
  {
   "cell_type": "markdown",
   "metadata": {},
   "source": [
    "## Setup\n",
    "The SQLite database for these exercises has been setup for you. For the curious, you can look at this file for the DDL commands to setup the tables and insert data.  `db_illum_ddl_5_3.sql`\n",
    "\n",
    "Here is the schema for the database. The arrows show foreign keys, which is just fyi for now. \n",
    "\n",
    "![worker_project schema](worker_project_schema.png) "
   ]
  },
  {
   "cell_type": "code",
   "execution_count": 8,
   "metadata": {},
   "outputs": [],
   "source": [
    "# Make sure to always run this cell when you open this notebook\n",
    "# Start the Jupyter SQL engine, connecting to a SQLite database \n",
    "%reload_ext sql \n",
    "%sql sqlite:///worker_project.db"
   ]
  },
  {
   "cell_type": "markdown",
   "metadata": {},
   "source": [
    "0. In the command line, inspect the sqlite database (worker_project.db) to see what the tables and columns actually are. Any differences you observe? (Also, copy past your output in the cell below)"
   ]
  },
  {
   "cell_type": "code",
   "execution_count": 1,
   "metadata": {},
   "outputs": [
    {
     "ename": "SyntaxError",
     "evalue": "invalid character '➜' (U+279C) (3210608329.py, line 1)",
     "output_type": "error",
     "traceback": [
      "\u001b[0;36m  Cell \u001b[0;32mIn[1], line 1\u001b[0;36m\u001b[0m\n\u001b[0;31m    @perezmolly973 ➜ /workspaces/CSC330-Introduction-to-SQL-T6-1 (main) $ sqlite3 worker_project.db\u001b[0m\n\u001b[0m                   ^\u001b[0m\n\u001b[0;31mSyntaxError\u001b[0m\u001b[0;31m:\u001b[0m invalid character '➜' (U+279C)\n"
     ]
    }
   ],
   "source": [
    "@perezmolly973 ➜ /workspaces/CSC330-Introduction-to-SQL-T6-1 (main) $ sqlite3 worker_project.db\n",
    "SQLite version 3.38.2 2022-03-26 13:51:10\n",
    "Enter \".help\" for usage hints.\n",
    "sqlite> .tables\n",
    "Assign   Dept     Project  Worker \n",
    "sqlite> select * from Assign;\n",
    "1001|101|30|\n",
    "1001|103|20|5\n",
    "1005|103|20|\n",
    "1001|105|30|\n",
    "1001|115|20|4\n",
    "1019|110|20|5\n",
    "1019|115|10|4\n",
    "1025|110|10|\n",
    "1030|110|10|\n",
    "sqlite> Select * from Dept;\n",
    "Accounting|101\n",
    "Research|110\n",
    "sqlite> Select * from Worker;\n",
    "101|Smith|Tom|Accounting|01-Feb-1970|06-Jun-1993 |50000\n",
    "103|Jones|Mary|Accounting|15-Jun-1975|20-Sep-2005|48000\n",
    "105|Burns|Jane|Accounting|21-Sep-1980|12-Jun-2015|39000\n",
    "110|Burns|Michael|Research|05-Apr-1977|10-Sep-2020|70000\n",
    "115|Chin|Amanda|Research|22-Sep-1980|19-Jun-2022|60000\n",
    "sqlite> Select * from Project;\n",
    "1001|Jupiter|101|300000|01-Feb-2021|50\n",
    "1005|Saturn|101|400000|01-Jun-2022|35\n",
    "1019|Mercury|110|350000|15-Feb-2022|40\n",
    "1025|Neptune|110|600000|01-Feb-2021|45\n",
    "1030|Pluto|110|380000|15-Sep-2023|50\n",
    "sqlite> "
   ]
  },
  {
   "cell_type": "markdown",
   "metadata": {},
   "source": [
    "1. Get the names of all workers in the Accounting department."
   ]
  },
  {
   "cell_type": "code",
   "execution_count": 15,
   "metadata": {
    "vscode": {
     "languageId": "sql"
    }
   },
   "outputs": [
    {
     "name": "stdout",
     "output_type": "stream",
     "text": [
      " * sqlite:///worker_project.db\n",
      "Done.\n"
     ]
    },
    {
     "data": {
      "text/html": [
       "<table>\n",
       "    <tr>\n",
       "        <th>lastName</th>\n",
       "        <th>firstName</th>\n",
       "    </tr>\n",
       "    <tr>\n",
       "        <td>Smith</td>\n",
       "        <td>Tom</td>\n",
       "    </tr>\n",
       "    <tr>\n",
       "        <td>Jones</td>\n",
       "        <td>Mary</td>\n",
       "    </tr>\n",
       "    <tr>\n",
       "        <td>Burns</td>\n",
       "        <td>Jane</td>\n",
       "    </tr>\n",
       "</table>"
      ],
      "text/plain": [
       "[('Smith', 'Tom'), ('Jones', 'Mary'), ('Burns', 'Jane')]"
      ]
     },
     "execution_count": 15,
     "metadata": {},
     "output_type": "execute_result"
    }
   ],
   "source": [
    "%%sql\n",
    "Select lastname, firstname from Worker w JOIN Dept p on w.deptName = p.deptName\n",
    "Where p.deptName = \"Accounting\""
   ]
  },
  {
   "cell_type": "code",
   "execution_count": 16,
   "metadata": {
    "vscode": {
     "languageId": "sql"
    }
   },
   "outputs": [
    {
     "name": "stdout",
     "output_type": "stream",
     "text": [
      " * sqlite:///worker_project.db\n",
      "Done.\n"
     ]
    },
    {
     "data": {
      "text/html": [
       "<table>\n",
       "    <tr>\n",
       "        <th>Full_name</th>\n",
       "    </tr>\n",
       "    <tr>\n",
       "        <td>Smith Tom</td>\n",
       "    </tr>\n",
       "    <tr>\n",
       "        <td>Jones Mary</td>\n",
       "    </tr>\n",
       "    <tr>\n",
       "        <td>Burns Jane</td>\n",
       "    </tr>\n",
       "</table>"
      ],
      "text/plain": [
       "[('Smith Tom',), ('Jones Mary',), ('Burns Jane',)]"
      ]
     },
     "execution_count": 16,
     "metadata": {},
     "output_type": "execute_result"
    }
   ],
   "source": [
    "%%sql\n",
    "\n",
    "Select (lastName || \" \" || firstName) as Full_name from Worker Where deptName = 'Accounting'\n"
   ]
  },
  {
   "cell_type": "markdown",
   "metadata": {},
   "source": [
    "2. Get the name of the employee in the Research department who has the lowest salary."
   ]
  },
  {
   "cell_type": "code",
   "execution_count": 26,
   "metadata": {
    "vscode": {
     "languageId": "sql"
    }
   },
   "outputs": [
    {
     "name": "stdout",
     "output_type": "stream",
     "text": [
      " * sqlite:///worker_project.db\n",
      "Done.\n"
     ]
    },
    {
     "data": {
      "text/html": [
       "<table>\n",
       "    <tr>\n",
       "        <th>lastName</th>\n",
       "        <th>firstName</th>\n",
       "    </tr>\n",
       "    <tr>\n",
       "        <td>Chin</td>\n",
       "        <td>Amanda</td>\n",
       "    </tr>\n",
       "</table>"
      ],
      "text/plain": [
       "[('Chin', 'Amanda')]"
      ]
     },
     "execution_count": 26,
     "metadata": {},
     "output_type": "execute_result"
    }
   ],
   "source": [
    "%%sql\n",
    "\n",
    "Select lastName, firstName From Worker w JOIN  Dept p ON w.deptName = p.deptName\n",
    "Where p.deptName = \"Research\"\n",
    "Order By w.salary ASC LIMIT 1;\n"
   ]
  },
  {
   "cell_type": "code",
   "execution_count": 9,
   "metadata": {
    "vscode": {
     "languageId": "sql"
    }
   },
   "outputs": [
    {
     "name": "stdout",
     "output_type": "stream",
     "text": [
      " * sqlite:///worker_project.db\n",
      "Done.\n"
     ]
    },
    {
     "data": {
      "text/html": [
       "<table>\n",
       "    <tr>\n",
       "        <th>Full_name</th>\n",
       "    </tr>\n",
       "    <tr>\n",
       "        <td>Chin Amanda</td>\n",
       "    </tr>\n",
       "</table>"
      ],
      "text/plain": [
       "[('Chin Amanda',)]"
      ]
     },
     "execution_count": 9,
     "metadata": {},
     "output_type": "execute_result"
    }
   ],
   "source": [
    "%%sql\n",
    "Select (lastName || \" \" || firstName) as Full_name from Worker where deptName = 'Research' \n",
    "ORDER BY salary ASC LIMIT 1;"
   ]
  },
  {
   "cell_type": "markdown",
   "metadata": {},
   "source": [
    "3. Get the details of the project with the highest budget."
   ]
  },
  {
   "cell_type": "code",
   "execution_count": 27,
   "metadata": {
    "vscode": {
     "languageId": "sql"
    }
   },
   "outputs": [
    {
     "name": "stdout",
     "output_type": "stream",
     "text": [
      " * sqlite:///worker_project.db\n",
      "Done.\n"
     ]
    },
    {
     "data": {
      "text/html": [
       "<table>\n",
       "    <tr>\n",
       "        <th>projNo</th>\n",
       "        <th>projName</th>\n",
       "        <th>projMgrId</th>\n",
       "        <th>budget</th>\n",
       "        <th>startDate</th>\n",
       "        <th>expectedDurationWeeks</th>\n",
       "        <th>projNo_1</th>\n",
       "        <th>empId</th>\n",
       "        <th>hoursAssigned</th>\n",
       "        <th>rating</th>\n",
       "    </tr>\n",
       "    <tr>\n",
       "        <td>1025</td>\n",
       "        <td>Neptune</td>\n",
       "        <td>110</td>\n",
       "        <td>600000</td>\n",
       "        <td>01-Feb-2021</td>\n",
       "        <td>45</td>\n",
       "        <td>1025</td>\n",
       "        <td>110</td>\n",
       "        <td>10</td>\n",
       "        <td>None</td>\n",
       "    </tr>\n",
       "</table>"
      ],
      "text/plain": [
       "[(1025, 'Neptune', 110, 600000, '01-Feb-2021', 45, 1025, 110, 10, None)]"
      ]
     },
     "execution_count": 27,
     "metadata": {},
     "output_type": "execute_result"
    }
   ],
   "source": [
    "%%sql\n",
    "\n",
    "Select * from Project p JOIN Assign a On p.projNo = a.projNo\n",
    "Where p.budget= (select MAX(budget) from Project)"
   ]
  },
  {
   "cell_type": "code",
   "execution_count": 23,
   "metadata": {
    "vscode": {
     "languageId": "sql"
    }
   },
   "outputs": [
    {
     "name": "stdout",
     "output_type": "stream",
     "text": [
      " * sqlite:///worker_project.db\n",
      "Done.\n"
     ]
    },
    {
     "data": {
      "text/html": [
       "<table>\n",
       "    <tr>\n",
       "        <th>projNo</th>\n",
       "        <th>projName</th>\n",
       "        <th>projMgrId</th>\n",
       "        <th>budget</th>\n",
       "        <th>startDate</th>\n",
       "        <th>expectedDurationWeeks</th>\n",
       "    </tr>\n",
       "    <tr>\n",
       "        <td>1025</td>\n",
       "        <td>Neptune</td>\n",
       "        <td>110</td>\n",
       "        <td>600000</td>\n",
       "        <td>01-Feb-2021</td>\n",
       "        <td>45</td>\n",
       "    </tr>\n",
       "</table>"
      ],
      "text/plain": [
       "[(1025, 'Neptune', 110, 600000, '01-Feb-2021', 45)]"
      ]
     },
     "execution_count": 23,
     "metadata": {},
     "output_type": "execute_result"
    }
   ],
   "source": [
    "%%sql\n",
    "Select * from Project where budget = (select MAX(budget) from Project);"
   ]
  },
  {
   "cell_type": "markdown",
   "metadata": {},
   "source": [
    "## The following questions may require more than one query to answer. \n",
    "Show your work! Add as many SQL cells as needed for each question. Use comments to indicate how the output of each query is used to arrive at your answer.  "
   ]
  },
  {
   "cell_type": "markdown",
   "metadata": {},
   "source": [
    "4. List out alphabetically the names of all workers working on Project 1001."
   ]
  },
  {
   "cell_type": "code",
   "execution_count": 28,
   "metadata": {
    "vscode": {
     "languageId": "sql"
    }
   },
   "outputs": [
    {
     "name": "stdout",
     "output_type": "stream",
     "text": [
      " * sqlite:///worker_project.db\n",
      "Done.\n"
     ]
    },
    {
     "data": {
      "text/html": [
       "<table>\n",
       "    <tr>\n",
       "        <th>lastName</th>\n",
       "        <th>firstName</th>\n",
       "    </tr>\n",
       "    <tr>\n",
       "        <td>Burns</td>\n",
       "        <td>Jane</td>\n",
       "    </tr>\n",
       "    <tr>\n",
       "        <td>Chin</td>\n",
       "        <td>Amanda</td>\n",
       "    </tr>\n",
       "    <tr>\n",
       "        <td>Jones</td>\n",
       "        <td>Mary</td>\n",
       "    </tr>\n",
       "    <tr>\n",
       "        <td>Smith</td>\n",
       "        <td>Tom</td>\n",
       "    </tr>\n",
       "</table>"
      ],
      "text/plain": [
       "[('Burns', 'Jane'), ('Chin', 'Amanda'), ('Jones', 'Mary'), ('Smith', 'Tom')]"
      ]
     },
     "execution_count": 28,
     "metadata": {},
     "output_type": "execute_result"
    }
   ],
   "source": [
    "%%sql\n",
    "\n",
    "Select lastName, firstName from Worker p LEFT JOIN Assign pt on p.empId = pt.empId \n",
    "where projNo = \"1001\"\n",
    "Order by lastName, firstName ASC;"
   ]
  },
  {
   "cell_type": "code",
   "execution_count": 3,
   "metadata": {
    "vscode": {
     "languageId": "sql"
    }
   },
   "outputs": [
    {
     "name": "stdout",
     "output_type": "stream",
     "text": [
      " * sqlite:///worker_project.db\n",
      "Done.\n"
     ]
    },
    {
     "data": {
      "text/html": [
       "<table>\n",
       "    <tr>\n",
       "        <th>Full_name</th>\n",
       "    </tr>\n",
       "    <tr>\n",
       "        <td>Burns Jane</td>\n",
       "    </tr>\n",
       "    <tr>\n",
       "        <td>Chin Amanda</td>\n",
       "    </tr>\n",
       "    <tr>\n",
       "        <td>Jones Mary</td>\n",
       "    </tr>\n",
       "    <tr>\n",
       "        <td>Smith Tom</td>\n",
       "    </tr>\n",
       "</table>"
      ],
      "text/plain": [
       "[('Burns Jane',), ('Chin Amanda',), ('Jones Mary',), ('Smith Tom',)]"
      ]
     },
     "execution_count": 3,
     "metadata": {},
     "output_type": "execute_result"
    }
   ],
   "source": [
    "%%sql \n",
    "\n",
    "Select (lastName || \" \" || firstName) as Full_name From Worker, Assign where Worker.empId= Assign.empId\n",
    "and projNo = \"1001\"\n",
    "Order by full_name ASC;"
   ]
  },
  {
   "cell_type": "markdown",
   "metadata": {},
   "source": [
    "5. Get an alphabetical list of names and corresponding ratings for all workers on any project managed by Michael Burns."
   ]
  },
  {
   "cell_type": "code",
   "execution_count": 41,
   "metadata": {
    "vscode": {
     "languageId": "sql"
    }
   },
   "outputs": [
    {
     "name": "stdout",
     "output_type": "stream",
     "text": [
      " * sqlite:///worker_project.db\n",
      "(sqlite3.OperationalError) near \",\": syntax error\n",
      "[SQL: Select w.lastName, w.firstName, a.rating from Worker w Join  Project p ON w.empid= p.projMgrId\n",
      "Join Assign a ON p.projNo = a.projNo and w.empId=a.empId \n",
      "Where w.lastName, w.firstName in]\n",
      "(Background on this error at: https://sqlalche.me/e/14/e3q8)\n"
     ]
    }
   ],
   "source": [
    "%%sql\n",
    "\n",
    "Select w.lastName, w.firstName, a.rating from Worker w Join  Project p ON w.empid= p.projMgrId\n",
    "Join Assign a ON p.projNo = a.projNo and w.empId=a.empId \n",
    "Where w.lastName, w.firstName in \n",
    "\n"
   ]
  },
  {
   "cell_type": "code",
   "execution_count": 40,
   "metadata": {
    "vscode": {
     "languageId": "sql"
    }
   },
   "outputs": [
    {
     "name": "stdout",
     "output_type": "stream",
     "text": [
      " * sqlite:///worker_project.db\n",
      "Done.\n"
     ]
    },
    {
     "data": {
      "text/html": [
       "<table>\n",
       "    <tr>\n",
       "        <th>lastName</th>\n",
       "        <th>firstName</th>\n",
       "        <th>rating</th>\n",
       "    </tr>\n",
       "    <tr>\n",
       "        <td>Burns</td>\n",
       "        <td>Michael</td>\n",
       "        <td>5</td>\n",
       "    </tr>\n",
       "    <tr>\n",
       "        <td>Chin</td>\n",
       "        <td>Amanda</td>\n",
       "        <td>4</td>\n",
       "    </tr>\n",
       "</table>"
      ],
      "text/plain": [
       "[('Burns', 'Michael', 5), ('Chin', 'Amanda', 4)]"
      ]
     },
     "execution_count": 40,
     "metadata": {},
     "output_type": "execute_result"
    }
   ],
   "source": [
    "%%sql \n",
    "\n",
    "Select lastname, firstname, rating from Worker, Assign where  Worker.empId= Assign.empId \n",
    "and projNo = (Select projNo from Project where projMgrId = (Select empId from Worker where lastName = 'Burns' and firstName = 'Michael'))\n",
    "order by lastName, firstName DESC;\n"
   ]
  },
  {
   "cell_type": "markdown",
   "metadata": {},
   "source": [
    "6. For all projects starting after Feb 1, 2022, find the project number and names of all workers assigned to them. "
   ]
  },
  {
   "cell_type": "code",
   "execution_count": 42,
   "metadata": {
    "vscode": {
     "languageId": "sql"
    }
   },
   "outputs": [
    {
     "name": "stdout",
     "output_type": "stream",
     "text": [
      " * sqlite:///worker_project.db\n",
      "Done.\n"
     ]
    },
    {
     "data": {
      "text/html": [
       "<table>\n",
       "    <tr>\n",
       "        <th>projNo</th>\n",
       "        <th>lastName</th>\n",
       "        <th>firstName</th>\n",
       "    </tr>\n",
       "    <tr>\n",
       "        <td>1005</td>\n",
       "        <td>Jones</td>\n",
       "        <td>Mary</td>\n",
       "    </tr>\n",
       "    <tr>\n",
       "        <td>1019</td>\n",
       "        <td>Burns</td>\n",
       "        <td>Michael</td>\n",
       "    </tr>\n",
       "    <tr>\n",
       "        <td>1019</td>\n",
       "        <td>Chin</td>\n",
       "        <td>Amanda</td>\n",
       "    </tr>\n",
       "    <tr>\n",
       "        <td>1030</td>\n",
       "        <td>Burns</td>\n",
       "        <td>Michael</td>\n",
       "    </tr>\n",
       "</table>"
      ],
      "text/plain": [
       "[(1005, 'Jones', 'Mary'),\n",
       " (1019, 'Burns', 'Michael'),\n",
       " (1019, 'Chin', 'Amanda'),\n",
       " (1030, 'Burns', 'Michael')]"
      ]
     },
     "execution_count": 42,
     "metadata": {},
     "output_type": "execute_result"
    }
   ],
   "source": [
    "%%sql\n",
    "Select p.projNo , w.lastName, w.firstName from Project p\n",
    "JOIN Assign a ON p.projNo=a.projNo\n",
    "JOIN Worker w ON a.empId = w.empId\n",
    "Where p.startDate > '01-Feb-2022'"
   ]
  },
  {
   "cell_type": "code",
   "execution_count": 5,
   "metadata": {
    "vscode": {
     "languageId": "sql"
    }
   },
   "outputs": [
    {
     "name": "stdout",
     "output_type": "stream",
     "text": [
      " * sqlite:///worker_project.db\n",
      "Done.\n"
     ]
    },
    {
     "data": {
      "text/html": [
       "<table>\n",
       "    <tr>\n",
       "        <th>lastName</th>\n",
       "        <th>firstName</th>\n",
       "    </tr>\n",
       "    <tr>\n",
       "        <td>Jones</td>\n",
       "        <td>Mary</td>\n",
       "    </tr>\n",
       "    <tr>\n",
       "        <td>Burns</td>\n",
       "        <td>Michael</td>\n",
       "    </tr>\n",
       "    <tr>\n",
       "        <td>Chin</td>\n",
       "        <td>Amanda</td>\n",
       "    </tr>\n",
       "</table>"
      ],
      "text/plain": [
       "[('Jones', 'Mary'), ('Burns', 'Michael'), ('Chin', 'Amanda')]"
      ]
     },
     "execution_count": 5,
     "metadata": {},
     "output_type": "execute_result"
    }
   ],
   "source": [
    "%%sql\n",
    "\n",
    "Select lastname, firstName from Worker where empId in (Select empId from Assign where projNo in (Select ProjNo from Project where startDate > '01-Feb-2022'))\n",
    "\n",
    "\n"
   ]
  },
  {
   "cell_type": "markdown",
   "metadata": {},
   "source": [
    "7. Find the names of employees who are not assigned as managers any project."
   ]
  },
  {
   "cell_type": "code",
   "execution_count": 47,
   "metadata": {
    "vscode": {
     "languageId": "sql"
    }
   },
   "outputs": [
    {
     "name": "stdout",
     "output_type": "stream",
     "text": [
      " * sqlite:///worker_project.db\n",
      "(sqlite3.OperationalError) no such table: w.empId\n",
      "[SQL: Select firstName, lastname from Worker w LEFT JOIN Project p ON w.empId=p.empId\n",
      "where p.projMgrId NOT IN w.empId]\n",
      "(Background on this error at: https://sqlalche.me/e/14/e3q8)\n"
     ]
    }
   ],
   "source": [
    "%%sql \n",
    "\n",
    "Select firstName, lastname from Worker w LEFT JOIN Project p ON w.empId=p.empId\n",
    "where p.projMgrId NOT IN w.empId"
   ]
  },
  {
   "cell_type": "code",
   "execution_count": 6,
   "metadata": {
    "vscode": {
     "languageId": "sql"
    }
   },
   "outputs": [
    {
     "name": "stdout",
     "output_type": "stream",
     "text": [
      " * sqlite:///worker_project.db\n",
      "Done.\n"
     ]
    },
    {
     "data": {
      "text/html": [
       "<table>\n",
       "    <tr>\n",
       "        <th>firstName</th>\n",
       "        <th>lastName</th>\n",
       "    </tr>\n",
       "    <tr>\n",
       "        <td>Mary</td>\n",
       "        <td>Jones</td>\n",
       "    </tr>\n",
       "    <tr>\n",
       "        <td>Jane</td>\n",
       "        <td>Burns</td>\n",
       "    </tr>\n",
       "    <tr>\n",
       "        <td>Amanda</td>\n",
       "        <td>Chin</td>\n",
       "    </tr>\n",
       "</table>"
      ],
      "text/plain": [
       "[('Mary', 'Jones'), ('Jane', 'Burns'), ('Amanda', 'Chin')]"
      ]
     },
     "execution_count": 6,
     "metadata": {},
     "output_type": "execute_result"
    }
   ],
   "source": [
    "%%sql\n",
    "\n",
    "Select firstName, lastname from Worker where empId NOT IN (select Distinct projMgrId from Project);"
   ]
  },
  {
   "cell_type": "markdown",
   "metadata": {},
   "source": [
    "8. Find details of any project with the string \"urn\" in the project name. "
   ]
  },
  {
   "cell_type": "code",
   "execution_count": 7,
   "metadata": {
    "vscode": {
     "languageId": "sql"
    }
   },
   "outputs": [
    {
     "name": "stdout",
     "output_type": "stream",
     "text": [
      " * sqlite:///worker_project.db\n",
      "Done.\n"
     ]
    },
    {
     "data": {
      "text/html": [
       "<table>\n",
       "    <tr>\n",
       "        <th>projNo</th>\n",
       "        <th>projName</th>\n",
       "        <th>projMgrId</th>\n",
       "        <th>budget</th>\n",
       "        <th>startDate</th>\n",
       "        <th>expectedDurationWeeks</th>\n",
       "    </tr>\n",
       "    <tr>\n",
       "        <td>1005</td>\n",
       "        <td>Saturn</td>\n",
       "        <td>101</td>\n",
       "        <td>400000</td>\n",
       "        <td>01-Jun-2022</td>\n",
       "        <td>35</td>\n",
       "    </tr>\n",
       "</table>"
      ],
      "text/plain": [
       "[(1005, 'Saturn', 101, 400000, '01-Jun-2022', 35)]"
      ]
     },
     "execution_count": 7,
     "metadata": {},
     "output_type": "execute_result"
    }
   ],
   "source": [
    "%%sql\n",
    "\n",
    "--Select * from Project, Assign Where ProjName = (Select ProjName from Project where projName LIKE '%URN')\n",
    "\n",
    "Select * from Project where projName LIKE '%URN'; \n"
   ]
  },
  {
   "cell_type": "markdown",
   "metadata": {},
   "source": [
    "9. List out the projects from most to least efficient. (hint: the project with the lowest budget is not necessarily the one that uses time and human resources effectively.)"
   ]
  },
  {
   "cell_type": "code",
   "execution_count": 8,
   "metadata": {
    "vscode": {
     "languageId": "sql"
    }
   },
   "outputs": [
    {
     "name": "stdout",
     "output_type": "stream",
     "text": [
      " * sqlite:///worker_project.db\n",
      "Done.\n"
     ]
    },
    {
     "data": {
      "text/html": [
       "<table>\n",
       "    <tr>\n",
       "        <th>projName</th>\n",
       "        <th>Efficiency</th>\n",
       "    </tr>\n",
       "    <tr>\n",
       "        <td>Neptune</td>\n",
       "        <td>13333</td>\n",
       "    </tr>\n",
       "    <tr>\n",
       "        <td>Saturn</td>\n",
       "        <td>11428</td>\n",
       "    </tr>\n",
       "    <tr>\n",
       "        <td>Pluto</td>\n",
       "        <td>7600</td>\n",
       "    </tr>\n",
       "    <tr>\n",
       "        <td>Mercury</td>\n",
       "        <td>4375</td>\n",
       "    </tr>\n",
       "    <tr>\n",
       "        <td>Jupiter</td>\n",
       "        <td>1500</td>\n",
       "    </tr>\n",
       "</table>"
      ],
      "text/plain": [
       "[('Neptune', 13333),\n",
       " ('Saturn', 11428),\n",
       " ('Pluto', 7600),\n",
       " ('Mercury', 4375),\n",
       " ('Jupiter', 1500)]"
      ]
     },
     "execution_count": 8,
     "metadata": {},
     "output_type": "execute_result"
    }
   ],
   "source": [
    "%%sql\n",
    "Select projName, budget/ expectedDurationWeeks/(Select count() from Assign where projNo = p.projNo) as \"Efficiency\" \n",
    "from Project p\n",
    "Order by Efficiency DESC\n",
    "\n",
    "\n"
   ]
  },
  {
   "cell_type": "markdown",
   "metadata": {},
   "source": [
    "10. Explain your reasoning for your solution to #9 (use a Markdown cell), including who should get the award for Most Efficient Project Manager."
   ]
  },
  {
   "attachments": {},
   "cell_type": "markdown",
   "metadata": {},
   "source": [
    "My sequal gets it efficiency using the budget the duration of weeks and the number of worker assigned to the certain project. My reasoning was that using all these 3 attributes it can help me better list out the projects in order taking in account the budget, workers, and weeks of duration. According to my sequal the Neptune project is the most efficient comapred to the Jupiter project which is less efficient. "
   ]
  },
  {
   "cell_type": "markdown",
   "metadata": {},
   "source": [
    "11. Bonus!!  A Query that you can't easily answer with just a set of queries: Get a list of project numbers with name and start dates, of all the projects that have the same start date as another. \n",
    "*you don't have to answer this, but think about it!*\n"
   ]
  },
  {
   "cell_type": "markdown",
   "metadata": {},
   "source": [
    "## Submission:\n",
    "\n",
    "Commit and push your changes to this document by the deadline, and share a link to the repository in the Moodle assignment.  "
   ]
  },
  {
   "attachments": {},
   "cell_type": "markdown",
   "metadata": {},
   "source": [
    "Working with \n",
    "Etha, Alejandro, Issac and TA chesky \n"
   ]
  }
 ],
 "metadata": {
  "kernelspec": {
   "display_name": "Python 3 (ipykernel)",
   "language": "python",
   "name": "python3"
  },
  "language_info": {
   "codemirror_mode": {
    "name": "ipython",
    "version": 3
   },
   "file_extension": ".py",
   "mimetype": "text/x-python",
   "name": "python",
   "nbconvert_exporter": "python",
   "pygments_lexer": "ipython3",
   "version": "3.10.4"
  },
  "vscode": {
   "interpreter": {
    "hash": "3ad933181bd8a04b432d3370b9dc3b0662ad032c4dfaa4e4f1596c548f763858"
   }
  }
 },
 "nbformat": 4,
 "nbformat_minor": 4
}
